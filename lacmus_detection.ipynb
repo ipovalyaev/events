{
  "nbformat": 4,
  "nbformat_minor": 0,
  "metadata": {
    "colab": {
      "name": "Lacmus Demo",
      "provenance": [],
      "collapsed_sections": [],
      "toc_visible": true,
      "include_colab_link": true
    },
    "kernelspec": {
      "name": "python3",
      "display_name": "Python 3"
    },
    "accelerator": "GPU"
  },
  "cells": [
    {
      "cell_type": "markdown",
      "metadata": {
        "id": "view-in-github",
        "colab_type": "text"
      },
      "source": [
        "<a href=\"https://colab.research.google.com/github/ipovalyaev/events/blob/collab_detection_notebook/lacmus_detection.ipynb\" target=\"_parent\"><img src=\"https://colab.research.google.com/assets/colab-badge.svg\" alt=\"Open In Colab\"/></a>"
      ]
    },
    {
      "cell_type": "markdown",
      "metadata": {
        "id": "t6MPjfT5NrKQ"
      },
      "source": [
        "This notebook is intended to demonstrate and test **Lacmus** neural network, based on Yolov5 and trained on lacmus dataset. \n",
        "More information available at  https://lacmus-foundation.github.io  \n",
        "\n",
        "!!! \n",
        "\n",
        "This collab is not intended to use in S&R operation - it's not suited for fast photos processing at large quantities. It will let you test how **Lacmus** will perform on the photos you have and decide if it works well for your photos/landscape.\n",
        "\n",
        "For S&R operations you can use our application https://github.com/lacmus-foundation/lacmus or server https://github.com/lacmus-foundation/lacmus-web-api\n",
        "\n",
        "!!!\n",
        "\n",
        "\n",
        "This notebook is based on **YOLOv5 🚀 notebook** by **Ultralytics**, which is freely available for redistribution under the [GPL-3.0 license](https://choosealicense.com/licenses/gpl-3.0/). \n",
        "For more information please visit https://github.com/ultralytics/yolov5 and https://ultralytics.com. Thank you!"
      ]
    },
    {
      "cell_type": "markdown",
      "metadata": {
        "id": "7mGmQbAO5pQb"
      },
      "source": [
        "# Setup\n",
        "\n",
        "Clone repo, install dependencies and check PyTorch and GPU."
      ]
    },
    {
      "cell_type": "code",
      "metadata": {
        "id": "wbvMlHd_QwMG"
      },
      "source": [
        "!git clone https://github.com/ultralytics/yolov5  # clone\n",
        "%cd yolov5\n",
        "%pip install -qr requirements.txt  # install\n",
        "\n",
        "import torch\n",
        "from yolov5 import utils\n",
        "display = utils.notebook_init()  # checks"
      ],
      "execution_count": null,
      "outputs": []
    },
    {
      "cell_type": "code",
      "source": [
        "# We have to download Lacmus model weights. \n",
        "!wget https://filedn.com/l6nit0tuWX9RqtYEbf0DgEV/Yolo5_format_best.pt"
      ],
      "metadata": {
        "id": "VnAVHD-qQS3o"
      },
      "execution_count": null,
      "outputs": []
    },
    {
      "cell_type": "markdown",
      "metadata": {
        "id": "4JnkELT0cIJg"
      },
      "source": [
        "# 1. Downloading images and running the network\n",
        "\n",
        "`detect.py` runs YOLOv5 inference on a variety of sources, downloading models automatically from the [latest YOLOv5 release](https://github.com/ultralytics/yolov5/releases), and saving results to `runs/detect`. \n",
        "\n"
      ]
    },
    {
      "cell_type": "code",
      "source": [
        "# Remove the original Yolo5 examples there, as nature of drone footage is completely different\n",
        "!rm data/images/bus.jpg\n",
        "!rm data/images/zidane.jpg"
      ],
      "metadata": {
        "id": "S8XgvtJlGhQm"
      },
      "execution_count": null,
      "outputs": []
    },
    {
      "cell_type": "code",
      "source": [
        "# We use examples photos from our dataset. \n",
        "# You can try, before running a network download those by links below and try to find people by yourself ;)\n",
        "!wget https://filedn.com/l6nit0tuWX9RqtYEbf0DgEV/418.jpg\n",
        "!wget https://filedn.com/l6nit0tuWX9RqtYEbf0DgEV/417.jpg\n",
        "!cp 41*.jpg data/images"
      ],
      "metadata": {
        "id": "r9-E_Lp7FzQG"
      },
      "execution_count": null,
      "outputs": []
    },
    {
      "cell_type": "code",
      "source": [
        "# You can upload your photo by running cell below and then copying it to data/images for detection\n",
        "# For this uncomment code in this and the next cell\n",
        "\n",
        "# from google.colab import files\n",
        "# uploaded = files.upload()\n"
      ],
      "metadata": {
        "id": "niuWxYk7KdiI"
      },
      "execution_count": null,
      "outputs": []
    },
    {
      "cell_type": "code",
      "source": [
        "# !cp <PUT_NAME_OF_FILE_YOU_UPLODADED_THERE> data/images"
      ],
      "metadata": {
        "id": "AG95U_oFMScF"
      },
      "execution_count": null,
      "outputs": []
    },
    {
      "cell_type": "code",
      "source": [
        "# If you run detection several times Yolo creates folders like runs/detect/exp2, runs/detect/exp3, etc. \n",
        "# To avoid this remove the exp folder before running detection\n",
        "!rm -rf runs/detect/exp"
      ],
      "metadata": {
        "id": "oPMVCQfyLkpg"
      },
      "execution_count": null,
      "outputs": []
    },
    {
      "cell_type": "code",
      "metadata": {
        "id": "zR9ZbuQCH7FX"
      },
      "source": [
        "!python detect.py --weights Yolo5_format_best.pt --imgsz 1984 --conf-thres 0.05 --iou-thres 0.01 --source data/images\n"
      ],
      "execution_count": null,
      "outputs": []
    },
    {
      "cell_type": "code",
      "source": [
        "# All detection results are in runs/detect/exp/ , including your file, if you've uploaded any, so you can display it as shown below"
      ],
      "metadata": {
        "id": "cMlrfnBlM4Zm"
      },
      "execution_count": null,
      "outputs": []
    },
    {
      "cell_type": "code",
      "source": [
        "display.Image(filename='runs/detect/exp/417.jpg', width=2000)"
      ],
      "metadata": {
        "id": "odFQuRk3Gx_V"
      },
      "execution_count": null,
      "outputs": []
    },
    {
      "cell_type": "code",
      "source": [
        "display.Image(filename='runs/detect/exp/418.jpg', width=2000)"
      ],
      "metadata": {
        "id": "hJvrri0LJt2M"
      },
      "execution_count": null,
      "outputs": []
    },
    {
      "cell_type": "code",
      "source": [
        ""
      ],
      "metadata": {
        "id": "80EoXiKKJu9L"
      },
      "execution_count": null,
      "outputs": []
    }
  ]
}
